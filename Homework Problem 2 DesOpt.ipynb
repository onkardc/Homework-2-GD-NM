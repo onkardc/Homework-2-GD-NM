{
 "cells": [
  {
   "cell_type": "code",
   "execution_count": 29,
   "id": "0ca56c9f",
   "metadata": {},
   "outputs": [],
   "source": [
    "import numpy as np"
   ]
  },
  {
   "cell_type": "code",
   "execution_count": 32,
   "id": "e6715d98",
   "metadata": {},
   "outputs": [
    {
     "name": "stdout",
     "output_type": "stream",
     "text": [
      "28.071337695236398\n"
     ]
    }
   ],
   "source": [
    "S = np.array([[10,12],[12,20]]) # Trial for finding norm of Hessian\n",
    "F = np.linalg.norm(S)\n",
    "print(F)"
   ]
  },
  {
   "cell_type": "code",
   "execution_count": 42,
   "id": "8cd28e38",
   "metadata": {},
   "outputs": [
    {
     "ename": "SyntaxError",
     "evalue": "invalid syntax (<ipython-input-42-b643b1298283>, line 2)",
     "output_type": "error",
     "traceback": [
      "\u001b[1;36m  File \u001b[1;32m\"<ipython-input-42-b643b1298283>\"\u001b[1;36m, line \u001b[1;32m2\u001b[0m\n\u001b[1;33m    def func([x[0],x[1]]): # Trial for getting function value as output\u001b[0m\n\u001b[1;37m             ^\u001b[0m\n\u001b[1;31mSyntaxError\u001b[0m\u001b[1;31m:\u001b[0m invalid syntax\n"
     ]
    }
   ],
   "source": [
    "x = [0,0]\n",
    "def func([x[0],x[1]]): # Trial for getting function value as output\n",
    "    f = (2 - 2*x[0] - 3x[1])**2 + x[0]**2 + (x[1]-1)**2 # defining the objective to minimize\n",
    "    return f\n",
    "print(f)"
   ]
  },
  {
   "cell_type": "code",
   "execution_count": 44,
   "id": "b507b141",
   "metadata": {},
   "outputs": [
    {
     "ename": "SyntaxError",
     "evalue": "invalid syntax (<ipython-input-44-7dacffa9d1c2>, line 3)",
     "output_type": "error",
     "traceback": [
      "\u001b[1;36m  File \u001b[1;32m\"<ipython-input-44-7dacffa9d1c2>\"\u001b[1;36m, line \u001b[1;32m3\u001b[0m\n\u001b[1;33m    f = (2 - 2*x[0] - 3x[1])**2 + x[0]**2 + (x[1]-1)**2 # defining the objective to minimize\u001b[0m\n\u001b[1;37m                       ^\u001b[0m\n\u001b[1;31mSyntaxError\u001b[0m\u001b[1;31m:\u001b[0m invalid syntax\n"
     ]
    }
   ],
   "source": [
    "x = (0,0)\n",
    "def func(x): # Trial for getting function value as output\n",
    "    f = (2 - 2*x[0] - 3x[1])**2 + x[0]**2 + (x[1]-1)**2 # defining the objective to minimize\n",
    "    return f\n",
    "print(f)"
   ]
  },
  {
   "cell_type": "code",
   "execution_count": null,
   "id": "9ecf3fc2",
   "metadata": {},
   "outputs": [],
   "source": [
    "# Code for problem 2\n",
    "x0 = [0,0]\n",
    "k = [0,0]\n",
    "soln = [x0]\n",
    "x = soln[k]\n",
    "eps = 1e-3\n",
    "\n",
    "def func(x[0],x[1]):\n",
    "    f = (2 - 2*x[0] - 3x[1])**2 + x[0]**2 + (x[1]-1)**2 # defining the objective to minimize\n",
    "    return f\n",
    "\n",
    "def grad(x[0],x[1]):    # defining the gradient function\n",
    "    g0 = -8 + 10*x[0] + 12*x[1] # gradient w.r.t. the first variable\n",
    "    g1 = -14 + 12*x[0] + 20*x[1] # gradient w.r.t. the second variable\n",
    "    return g = np.array([g0,g1])\n",
    "\n",
    "error = np.linalg.norm(grad())\n",
    "H = np.array([[10,12],[12,20]])\n",
    "\n",
    "def line_search():\n",
    "    a=1\n",
    "    phi = lambda a,x: func(x)\n",
    "\n",
    "while error >= eps:\n",
    "    a = 1\n",
    "    x = x-aa*grad(x)\n",
    "    soln.append(x)\n",
    "    error = "
   ]
  },
  {
   "cell_type": "code",
   "execution_count": null,
   "id": "18b22295",
   "metadata": {},
   "outputs": [],
   "source": []
  }
 ],
 "metadata": {
  "kernelspec": {
   "display_name": "Python 3",
   "language": "python",
   "name": "python3"
  },
  "language_info": {
   "codemirror_mode": {
    "name": "ipython",
    "version": 3
   },
   "file_extension": ".py",
   "mimetype": "text/x-python",
   "name": "python",
   "nbconvert_exporter": "python",
   "pygments_lexer": "ipython3",
   "version": "3.8.8"
  }
 },
 "nbformat": 4,
 "nbformat_minor": 5
}
