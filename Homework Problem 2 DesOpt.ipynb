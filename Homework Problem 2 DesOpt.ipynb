{
 "cells": [
  {
   "cell_type": "markdown",
   "id": "0048106f",
   "metadata": {},
   "source": [
    "# Solving Problem 2 using Gradient Descent"
   ]
  },
  {
   "cell_type": "code",
   "execution_count": null,
   "id": "d82f6ae2",
   "metadata": {},
   "outputs": [],
   "source": [
    "# Code for problem 2\n",
    "import numpy as np\n",
    "f = lambda x: (2 - 2*x[0] - 3*x[1])**2 + x[0]**2 + (x[1]-1)**2 # defining the objective to minimize\n",
    "\n",
    "def grad(x):    # defining the gradient function\n",
    "    g0 = -8 + 10*x[0] + 12*x[1] # gradient w.r.t. the first variable\n",
    "    g1 = -14 + 12*x[0] + 20*x[1] # gradient w.r.t. the second variable\n",
    "    return np.array([g0,g1])\n",
    "\n",
    "x0 = [0,0]\n",
    "x = x0\n",
    "soln = [x0]\n",
    "eps = 1e-3\n",
    "\n",
    "error = np.linalg.norm(grad(x))\n",
    "H = np.array([[10,12],[12,20]])\n",
    "\n",
    "def line_search(x):\n",
    "    a = 1\n",
    "    phi = lambda a,x: f(x) - a*0.8*grad(x)\n",
    "    while np.linalg.norm(phi(a,x))<f(x-a*(np.linalg.norm(grad(x)))):\n",
    "        a = 0.5*a\n",
    "    return a\n",
    "    \n",
    "\n",
    "while error >= eps:\n",
    "    a = line_search(x)\n",
    "    x = x-a*grad(x)\n",
    "    soln = np.append(soln,x)\n",
    "    error = np.linalg.norm(grad(x))\n",
    "    \n",
    "print(soln)"
   ]
  },
  {
   "cell_type": "code",
   "execution_count": null,
   "id": "dfaf3c58",
   "metadata": {},
   "outputs": [],
   "source": []
  }
 ],
 "metadata": {
  "kernelspec": {
   "display_name": "Python 3",
   "language": "python",
   "name": "python3"
  },
  "language_info": {
   "codemirror_mode": {
    "name": "ipython",
    "version": 3
   },
   "file_extension": ".py",
   "mimetype": "text/x-python",
   "name": "python",
   "nbconvert_exporter": "python",
   "pygments_lexer": "ipython3",
   "version": "3.8.8"
  }
 },
 "nbformat": 4,
 "nbformat_minor": 5
}
